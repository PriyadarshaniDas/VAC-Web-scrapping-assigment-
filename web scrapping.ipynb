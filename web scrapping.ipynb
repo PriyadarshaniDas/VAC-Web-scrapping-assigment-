{
 "cells": [
  {
   "cell_type": "code",
   "execution_count": 59,
   "id": "d29ba593",
   "metadata": {},
   "outputs": [
    {
     "name": "stdout",
     "output_type": "stream",
     "text": [
      "Requirement already satisfied: bs4 in c:\\users\\priya.laptop-pd\\anaconda3\\lib\\site-packages (0.0.1)\n",
      "Requirement already satisfied: beautifulsoup4 in c:\\users\\priya.laptop-pd\\anaconda3\\lib\\site-packages (from bs4) (4.11.1)\n",
      "Requirement already satisfied: soupsieve>1.2 in c:\\users\\priya.laptop-pd\\anaconda3\\lib\\site-packages (from beautifulsoup4->bs4) (2.3.1)\n",
      "Note: you may need to restart the kernel to use updated packages.\n"
     ]
    }
   ],
   "source": [
    "pip install bs4"
   ]
  },
  {
   "cell_type": "code",
   "execution_count": 60,
   "id": "ad07699b",
   "metadata": {},
   "outputs": [
    {
     "name": "stdout",
     "output_type": "stream",
     "text": [
      "Requirement already satisfied: requests in c:\\users\\priya.laptop-pd\\anaconda3\\lib\\site-packages (2.27.1)\n",
      "Requirement already satisfied: idna<4,>=2.5 in c:\\users\\priya.laptop-pd\\anaconda3\\lib\\site-packages (from requests) (3.3)\n",
      "Requirement already satisfied: charset-normalizer~=2.0.0 in c:\\users\\priya.laptop-pd\\anaconda3\\lib\\site-packages (from requests) (2.0.4)\n",
      "Requirement already satisfied: certifi>=2017.4.17 in c:\\users\\priya.laptop-pd\\anaconda3\\lib\\site-packages (from requests) (2021.10.8)\n",
      "Requirement already satisfied: urllib3<1.27,>=1.21.1 in c:\\users\\priya.laptop-pd\\anaconda3\\lib\\site-packages (from requests) (1.26.9)\n",
      "Note: you may need to restart the kernel to use updated packages.\n"
     ]
    }
   ],
   "source": [
    "pip install requests"
   ]
  },
  {
   "cell_type": "code",
   "execution_count": 61,
   "id": "3b479bfb",
   "metadata": {},
   "outputs": [],
   "source": [
    "from bs4 import BeautifulSoup"
   ]
  },
  {
   "cell_type": "code",
   "execution_count": 62,
   "id": "21cfb0c7",
   "metadata": {},
   "outputs": [],
   "source": [
    "import requests"
   ]
  },
  {
   "cell_type": "code",
   "execution_count": 63,
   "id": "90d1268f",
   "metadata": {},
   "outputs": [],
   "source": [
    "url = \"https://www.flipkart.com/search?q=mobiles&otracker=search&otracker1=search&marketplace=FLIPKART&as-show=on&as=off&p%5B%5D=facets.brand%255B%255D%3DSAMSUNG\""
   ]
  },
  {
   "cell_type": "code",
   "execution_count": 64,
   "id": "2e028bbf",
   "metadata": {},
   "outputs": [],
   "source": [
    "allow = requests.get(url)"
   ]
  },
  {
   "cell_type": "code",
   "execution_count": 65,
   "id": "89fac126",
   "metadata": {},
   "outputs": [
    {
     "name": "stdout",
     "output_type": "stream",
     "text": [
      "<Response [200]>\n"
     ]
    }
   ],
   "source": [
    "print (allow)"
   ]
  },
  {
   "cell_type": "code",
   "execution_count": 66,
   "id": "ef77d7f8",
   "metadata": {},
   "outputs": [],
   "source": [
    "soup=BeautifulSoup(allow.text)"
   ]
  },
  {
   "cell_type": "code",
   "execution_count": 67,
   "id": "7bb3e450",
   "metadata": {},
   "outputs": [],
   "source": [
    "mobile_name=soup.select(\"._4rR01T\")"
   ]
  },
  {
   "cell_type": "code",
   "execution_count": 68,
   "id": "317ee9e7",
   "metadata": {},
   "outputs": [
    {
     "data": {
      "text/plain": [
       "[<div class=\"_4rR01T\">SAMSUNG Galaxy F22 (Denim Blue, 128 GB)</div>,\n",
       " <div class=\"_4rR01T\">SAMSUNG Galaxy F22 (Denim Blue, 64 GB)</div>,\n",
       " <div class=\"_4rR01T\">SAMSUNG Galaxy F22 (Denim Black, 64 GB)</div>,\n",
       " <div class=\"_4rR01T\">SAMSUNG Galaxy F23 5G (Copper Blush, 128 GB)</div>,\n",
       " <div class=\"_4rR01T\">SAMSUNG Galaxy F22 (Denim Black, 128 GB)</div>,\n",
       " <div class=\"_4rR01T\">SAMSUNG Galaxy F23 5G (Aqua Blue, 128 GB)</div>,\n",
       " <div class=\"_4rR01T\">SAMSUNG Galaxy F23 5G (Forest Green, 128 GB)</div>,\n",
       " <div class=\"_4rR01T\">SAMSUNG Galaxy F12 (Celestial Black, 64 GB)</div>,\n",
       " <div class=\"_4rR01T\">SAMSUNG Galaxy F12 (Sea Green, 64 GB)</div>,\n",
       " <div class=\"_4rR01T\">SAMSUNG Galaxy M12 (Blue, 64 GB)</div>,\n",
       " <div class=\"_4rR01T\">SAMSUNG Galaxy F12 (Sky Blue, 64 GB)</div>,\n",
       " <div class=\"_4rR01T\">SAMSUNG Guru Music 2 SM-B315E</div>,\n",
       " <div class=\"_4rR01T\">SAMSUNG Galaxy M52 5G (Icy Blue, 128 GB)</div>,\n",
       " <div class=\"_4rR01T\">SAMSUNG Galaxy M32 (Black, 128 GB)</div>,\n",
       " <div class=\"_4rR01T\">SAMSUNG GT-E1215</div>,\n",
       " <div class=\"_4rR01T\">SAMSUNG Galaxy F23 5G (Aqua Blue, 128 GB)</div>,\n",
       " <div class=\"_4rR01T\">SAMSUNG Galaxy F23 5G (Copper Blush, 128 GB)</div>,\n",
       " <div class=\"_4rR01T\">SAMSUNG Galaxy M32 (Light Blue, 128 GB)</div>,\n",
       " <div class=\"_4rR01T\">SAMSUNG GURU MUSIC 2</div>,\n",
       " <div class=\"_4rR01T\">SAMSUNG Galaxy M33 5G (Deep Ocean Blue, 128 GB)</div>,\n",
       " <div class=\"_4rR01T\">SAMSUNG GURU GT</div>,\n",
       " <div class=\"_4rR01T\">SAMSUNG Galaxy F12 (Celestial Black, 128 GB)</div>,\n",
       " <div class=\"_4rR01T\">SAMSUNG Galaxy M12 (Black, 128 GB)</div>,\n",
       " <div class=\"_4rR01T\">SAMSUNG Galaxy F12 (Sky Blue, 128 GB)</div>]"
      ]
     },
     "execution_count": 68,
     "metadata": {},
     "output_type": "execute_result"
    }
   ],
   "source": [
    "mobile_name"
   ]
  },
  {
   "cell_type": "code",
   "execution_count": 69,
   "id": "f71ae7b2",
   "metadata": {},
   "outputs": [],
   "source": [
    "mobile=[]\n",
    "mobile_links=[]"
   ]
  },
  {
   "cell_type": "code",
   "execution_count": 70,
   "id": "52ba5fa3",
   "metadata": {},
   "outputs": [],
   "source": [
    "for item in mobile_name:\n",
    "    mobile.append(item.text)\n",
    "    link = \"https://www.flipkart.com\"\n",
    "    mobile_links.append(link)"
   ]
  },
  {
   "cell_type": "code",
   "execution_count": 71,
   "id": "0c3c2721",
   "metadata": {},
   "outputs": [
    {
     "data": {
      "text/plain": [
       "['SAMSUNG Galaxy F22 (Denim Blue, 128 GB)',\n",
       " 'SAMSUNG Galaxy F22 (Denim Blue, 64 GB)',\n",
       " 'SAMSUNG Galaxy F22 (Denim Black, 64 GB)',\n",
       " 'SAMSUNG Galaxy F23 5G (Copper Blush, 128 GB)',\n",
       " 'SAMSUNG Galaxy F22 (Denim Black, 128 GB)',\n",
       " 'SAMSUNG Galaxy F23 5G (Aqua Blue, 128 GB)',\n",
       " 'SAMSUNG Galaxy F23 5G (Forest Green, 128 GB)',\n",
       " 'SAMSUNG Galaxy F12 (Celestial Black, 64 GB)',\n",
       " 'SAMSUNG Galaxy F12 (Sea Green, 64 GB)',\n",
       " 'SAMSUNG Galaxy M12 (Blue, 64 GB)',\n",
       " 'SAMSUNG Galaxy F12 (Sky Blue, 64 GB)',\n",
       " 'SAMSUNG Guru Music 2 SM-B315E',\n",
       " 'SAMSUNG Galaxy M52 5G (Icy Blue, 128 GB)',\n",
       " 'SAMSUNG Galaxy M32 (Black, 128 GB)',\n",
       " 'SAMSUNG GT-E1215',\n",
       " 'SAMSUNG Galaxy F23 5G (Aqua Blue, 128 GB)',\n",
       " 'SAMSUNG Galaxy F23 5G (Copper Blush, 128 GB)',\n",
       " 'SAMSUNG Galaxy M32 (Light Blue, 128 GB)',\n",
       " 'SAMSUNG GURU MUSIC 2',\n",
       " 'SAMSUNG Galaxy M33 5G (Deep Ocean Blue, 128 GB)',\n",
       " 'SAMSUNG GURU GT',\n",
       " 'SAMSUNG Galaxy F12 (Celestial Black, 128 GB)',\n",
       " 'SAMSUNG Galaxy M12 (Black, 128 GB)',\n",
       " 'SAMSUNG Galaxy F12 (Sky Blue, 128 GB)']"
      ]
     },
     "execution_count": 71,
     "metadata": {},
     "output_type": "execute_result"
    }
   ],
   "source": [
    "mobile"
   ]
  },
  {
   "cell_type": "code",
   "execution_count": 88,
   "id": "d2e19f05",
   "metadata": {},
   "outputs": [],
   "source": [
    "mobile_rates=soup.select(\"._1_WHN1\")"
   ]
  },
  {
   "cell_type": "code",
   "execution_count": 89,
   "id": "cf84a736",
   "metadata": {},
   "outputs": [
    {
     "data": {
      "text/plain": [
       "[<div class=\"_30jeq3 _1_WHN1\">₹13,499</div>,\n",
       " <div class=\"_30jeq3 _1_WHN1\">₹11,499</div>,\n",
       " <div class=\"_30jeq3 _1_WHN1\">₹11,499</div>,\n",
       " <div class=\"_30jeq3 _1_WHN1\">₹16,249</div>,\n",
       " <div class=\"_30jeq3 _1_WHN1\">₹13,499</div>,\n",
       " <div class=\"_30jeq3 _1_WHN1\">₹16,249</div>,\n",
       " <div class=\"_30jeq3 _1_WHN1\">₹16,249</div>,\n",
       " <div class=\"_30jeq3 _1_WHN1\">₹10,499</div>,\n",
       " <div class=\"_30jeq3 _1_WHN1\">₹10,499</div>,\n",
       " <div class=\"_30jeq3 _1_WHN1\">₹10,285</div>,\n",
       " <div class=\"_30jeq3 _1_WHN1\">₹10,499</div>,\n",
       " <div class=\"_30jeq3 _1_WHN1\">₹1,995</div>,\n",
       " <div class=\"_30jeq3 _1_WHN1\">₹24,445</div>,\n",
       " <div class=\"_30jeq3 _1_WHN1\">₹15,289</div>,\n",
       " <div class=\"_30jeq3 _1_WHN1\">₹1,496</div>,\n",
       " <div class=\"_30jeq3 _1_WHN1\">₹15,249</div>,\n",
       " <div class=\"_30jeq3 _1_WHN1\">₹15,249</div>,\n",
       " <div class=\"_30jeq3 _1_WHN1\">₹15,189</div>,\n",
       " <div class=\"_30jeq3 _1_WHN1\">₹1,995</div>,\n",
       " <div class=\"_30jeq3 _1_WHN1\">₹16,940</div>,\n",
       " <div class=\"_30jeq3 _1_WHN1\">₹1,495</div>,\n",
       " <div class=\"_30jeq3 _1_WHN1\">₹11,499</div>,\n",
       " <div class=\"_30jeq3 _1_WHN1\">₹13,175</div>,\n",
       " <div class=\"_30jeq3 _1_WHN1\">₹11,499</div>]"
      ]
     },
     "execution_count": 89,
     "metadata": {},
     "output_type": "execute_result"
    }
   ],
   "source": [
    "mobile_rates"
   ]
  },
  {
   "cell_type": "code",
   "execution_count": 90,
   "id": "46c4a101",
   "metadata": {},
   "outputs": [],
   "source": [
    "rates=[]"
   ]
  },
  {
   "cell_type": "code",
   "execution_count": 91,
   "id": "b2510617",
   "metadata": {},
   "outputs": [],
   "source": [
    "for item in mobile_rates:\n",
    "    rates.append(item.text)"
   ]
  },
  {
   "cell_type": "code",
   "execution_count": 92,
   "id": "4079ec8e",
   "metadata": {},
   "outputs": [
    {
     "data": {
      "text/plain": [
       "['₹13,499',\n",
       " '₹11,499',\n",
       " '₹11,499',\n",
       " '₹16,249',\n",
       " '₹13,499',\n",
       " '₹16,249',\n",
       " '₹16,249',\n",
       " '₹10,499',\n",
       " '₹10,499',\n",
       " '₹10,285',\n",
       " '₹10,499',\n",
       " '₹1,995',\n",
       " '₹24,445',\n",
       " '₹15,289',\n",
       " '₹1,496',\n",
       " '₹15,249',\n",
       " '₹15,249',\n",
       " '₹15,189',\n",
       " '₹1,995',\n",
       " '₹16,940',\n",
       " '₹1,495',\n",
       " '₹11,499',\n",
       " '₹13,175',\n",
       " '₹11,499']"
      ]
     },
     "execution_count": 92,
     "metadata": {},
     "output_type": "execute_result"
    }
   ],
   "source": [
    "rates"
   ]
  },
  {
   "cell_type": "code",
   "execution_count": 93,
   "id": "cf7e81fb",
   "metadata": {},
   "outputs": [],
   "source": [
    "import pandas as pd"
   ]
  },
  {
   "cell_type": "code",
   "execution_count": 94,
   "id": "d2b8af26",
   "metadata": {},
   "outputs": [],
   "source": [
    "mobile = pd.DataFrame (mobile_name,columns=['mobile'])"
   ]
  },
  {
   "cell_type": "code",
   "execution_count": 95,
   "id": "da8d09be",
   "metadata": {},
   "outputs": [],
   "source": [
    "mobile ['rates'] = rates"
   ]
  },
  {
   "cell_type": "code",
   "execution_count": 96,
   "id": "c72918aa",
   "metadata": {},
   "outputs": [
    {
     "data": {
      "text/html": [
       "<div>\n",
       "<style scoped>\n",
       "    .dataframe tbody tr th:only-of-type {\n",
       "        vertical-align: middle;\n",
       "    }\n",
       "\n",
       "    .dataframe tbody tr th {\n",
       "        vertical-align: top;\n",
       "    }\n",
       "\n",
       "    .dataframe thead th {\n",
       "        text-align: right;\n",
       "    }\n",
       "</style>\n",
       "<table border=\"1\" class=\"dataframe\">\n",
       "  <thead>\n",
       "    <tr style=\"text-align: right;\">\n",
       "      <th></th>\n",
       "      <th>mobile</th>\n",
       "      <th>rates</th>\n",
       "    </tr>\n",
       "  </thead>\n",
       "  <tbody>\n",
       "    <tr>\n",
       "      <th>0</th>\n",
       "      <td>SAMSUNG Galaxy F22 (Denim Blue, 128 GB)</td>\n",
       "      <td>₹13,499</td>\n",
       "    </tr>\n",
       "    <tr>\n",
       "      <th>1</th>\n",
       "      <td>SAMSUNG Galaxy F22 (Denim Blue, 64 GB)</td>\n",
       "      <td>₹11,499</td>\n",
       "    </tr>\n",
       "    <tr>\n",
       "      <th>2</th>\n",
       "      <td>SAMSUNG Galaxy F22 (Denim Black, 64 GB)</td>\n",
       "      <td>₹11,499</td>\n",
       "    </tr>\n",
       "    <tr>\n",
       "      <th>3</th>\n",
       "      <td>SAMSUNG Galaxy F23 5G (Copper Blush, 128 GB)</td>\n",
       "      <td>₹16,249</td>\n",
       "    </tr>\n",
       "    <tr>\n",
       "      <th>4</th>\n",
       "      <td>SAMSUNG Galaxy F22 (Denim Black, 128 GB)</td>\n",
       "      <td>₹13,499</td>\n",
       "    </tr>\n",
       "    <tr>\n",
       "      <th>5</th>\n",
       "      <td>SAMSUNG Galaxy F23 5G (Aqua Blue, 128 GB)</td>\n",
       "      <td>₹16,249</td>\n",
       "    </tr>\n",
       "    <tr>\n",
       "      <th>6</th>\n",
       "      <td>SAMSUNG Galaxy F23 5G (Forest Green, 128 GB)</td>\n",
       "      <td>₹16,249</td>\n",
       "    </tr>\n",
       "    <tr>\n",
       "      <th>7</th>\n",
       "      <td>SAMSUNG Galaxy F12 (Celestial Black, 64 GB)</td>\n",
       "      <td>₹10,499</td>\n",
       "    </tr>\n",
       "    <tr>\n",
       "      <th>8</th>\n",
       "      <td>SAMSUNG Galaxy F12 (Sea Green, 64 GB)</td>\n",
       "      <td>₹10,499</td>\n",
       "    </tr>\n",
       "    <tr>\n",
       "      <th>9</th>\n",
       "      <td>SAMSUNG Galaxy M12 (Blue, 64 GB)</td>\n",
       "      <td>₹10,285</td>\n",
       "    </tr>\n",
       "    <tr>\n",
       "      <th>10</th>\n",
       "      <td>SAMSUNG Galaxy F12 (Sky Blue, 64 GB)</td>\n",
       "      <td>₹10,499</td>\n",
       "    </tr>\n",
       "    <tr>\n",
       "      <th>11</th>\n",
       "      <td>SAMSUNG Guru Music 2 SM-B315E</td>\n",
       "      <td>₹1,995</td>\n",
       "    </tr>\n",
       "    <tr>\n",
       "      <th>12</th>\n",
       "      <td>SAMSUNG Galaxy M52 5G (Icy Blue, 128 GB)</td>\n",
       "      <td>₹24,445</td>\n",
       "    </tr>\n",
       "    <tr>\n",
       "      <th>13</th>\n",
       "      <td>SAMSUNG Galaxy M32 (Black, 128 GB)</td>\n",
       "      <td>₹15,289</td>\n",
       "    </tr>\n",
       "    <tr>\n",
       "      <th>14</th>\n",
       "      <td>SAMSUNG GT-E1215</td>\n",
       "      <td>₹1,496</td>\n",
       "    </tr>\n",
       "    <tr>\n",
       "      <th>15</th>\n",
       "      <td>SAMSUNG Galaxy F23 5G (Aqua Blue, 128 GB)</td>\n",
       "      <td>₹15,249</td>\n",
       "    </tr>\n",
       "    <tr>\n",
       "      <th>16</th>\n",
       "      <td>SAMSUNG Galaxy F23 5G (Copper Blush, 128 GB)</td>\n",
       "      <td>₹15,249</td>\n",
       "    </tr>\n",
       "    <tr>\n",
       "      <th>17</th>\n",
       "      <td>SAMSUNG Galaxy M32 (Light Blue, 128 GB)</td>\n",
       "      <td>₹15,189</td>\n",
       "    </tr>\n",
       "    <tr>\n",
       "      <th>18</th>\n",
       "      <td>SAMSUNG GURU MUSIC 2</td>\n",
       "      <td>₹1,995</td>\n",
       "    </tr>\n",
       "    <tr>\n",
       "      <th>19</th>\n",
       "      <td>SAMSUNG Galaxy M33 5G (Deep Ocean Blue, 128 GB)</td>\n",
       "      <td>₹16,940</td>\n",
       "    </tr>\n",
       "    <tr>\n",
       "      <th>20</th>\n",
       "      <td>SAMSUNG GURU GT</td>\n",
       "      <td>₹1,495</td>\n",
       "    </tr>\n",
       "    <tr>\n",
       "      <th>21</th>\n",
       "      <td>SAMSUNG Galaxy F12 (Celestial Black, 128 GB)</td>\n",
       "      <td>₹11,499</td>\n",
       "    </tr>\n",
       "    <tr>\n",
       "      <th>22</th>\n",
       "      <td>SAMSUNG Galaxy M12 (Black, 128 GB)</td>\n",
       "      <td>₹13,175</td>\n",
       "    </tr>\n",
       "    <tr>\n",
       "      <th>23</th>\n",
       "      <td>SAMSUNG Galaxy F12 (Sky Blue, 128 GB)</td>\n",
       "      <td>₹11,499</td>\n",
       "    </tr>\n",
       "  </tbody>\n",
       "</table>\n",
       "</div>"
      ],
      "text/plain": [
       "                                             mobile    rates\n",
       "0           SAMSUNG Galaxy F22 (Denim Blue, 128 GB)  ₹13,499\n",
       "1            SAMSUNG Galaxy F22 (Denim Blue, 64 GB)  ₹11,499\n",
       "2           SAMSUNG Galaxy F22 (Denim Black, 64 GB)  ₹11,499\n",
       "3      SAMSUNG Galaxy F23 5G (Copper Blush, 128 GB)  ₹16,249\n",
       "4          SAMSUNG Galaxy F22 (Denim Black, 128 GB)  ₹13,499\n",
       "5         SAMSUNG Galaxy F23 5G (Aqua Blue, 128 GB)  ₹16,249\n",
       "6      SAMSUNG Galaxy F23 5G (Forest Green, 128 GB)  ₹16,249\n",
       "7       SAMSUNG Galaxy F12 (Celestial Black, 64 GB)  ₹10,499\n",
       "8             SAMSUNG Galaxy F12 (Sea Green, 64 GB)  ₹10,499\n",
       "9                  SAMSUNG Galaxy M12 (Blue, 64 GB)  ₹10,285\n",
       "10             SAMSUNG Galaxy F12 (Sky Blue, 64 GB)  ₹10,499\n",
       "11                    SAMSUNG Guru Music 2 SM-B315E   ₹1,995\n",
       "12         SAMSUNG Galaxy M52 5G (Icy Blue, 128 GB)  ₹24,445\n",
       "13               SAMSUNG Galaxy M32 (Black, 128 GB)  ₹15,289\n",
       "14                                 SAMSUNG GT-E1215   ₹1,496\n",
       "15        SAMSUNG Galaxy F23 5G (Aqua Blue, 128 GB)  ₹15,249\n",
       "16     SAMSUNG Galaxy F23 5G (Copper Blush, 128 GB)  ₹15,249\n",
       "17          SAMSUNG Galaxy M32 (Light Blue, 128 GB)  ₹15,189\n",
       "18                             SAMSUNG GURU MUSIC 2   ₹1,995\n",
       "19  SAMSUNG Galaxy M33 5G (Deep Ocean Blue, 128 GB)  ₹16,940\n",
       "20                                  SAMSUNG GURU GT   ₹1,495\n",
       "21     SAMSUNG Galaxy F12 (Celestial Black, 128 GB)  ₹11,499\n",
       "22               SAMSUNG Galaxy M12 (Black, 128 GB)  ₹13,175\n",
       "23            SAMSUNG Galaxy F12 (Sky Blue, 128 GB)  ₹11,499"
      ]
     },
     "execution_count": 96,
     "metadata": {},
     "output_type": "execute_result"
    }
   ],
   "source": [
    "mobile"
   ]
  },
  {
   "cell_type": "code",
   "execution_count": 98,
   "id": "acc1e64f",
   "metadata": {},
   "outputs": [],
   "source": [
    "mobile.to_csv('mobile.csv')"
   ]
  },
  {
   "cell_type": "code",
   "execution_count": null,
   "id": "d6d77d9a",
   "metadata": {},
   "outputs": [],
   "source": []
  }
 ],
 "metadata": {
  "kernelspec": {
   "display_name": "Python 3 (ipykernel)",
   "language": "python",
   "name": "python3"
  },
  "language_info": {
   "codemirror_mode": {
    "name": "ipython",
    "version": 3
   },
   "file_extension": ".py",
   "mimetype": "text/x-python",
   "name": "python",
   "nbconvert_exporter": "python",
   "pygments_lexer": "ipython3",
   "version": "3.9.12"
  }
 },
 "nbformat": 4,
 "nbformat_minor": 5
}
